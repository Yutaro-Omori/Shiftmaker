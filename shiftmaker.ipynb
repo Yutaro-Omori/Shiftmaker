{
 "cells": [
  {
   "cell_type": "code",
   "execution_count": null,
   "metadata": {
    "colab": {
     "base_uri": "https://localhost:8080/"
    },
    "executionInfo": {
     "elapsed": 3241,
     "status": "ok",
     "timestamp": 1755088655722,
     "user": {
      "displayName": "大森裕太朗",
      "userId": "01392563301008828223"
     },
     "user_tz": -420
    },
    "id": "xzgph7pPOQyK",
    "outputId": "a671d68b-00dd-4c49-dbac-94ba95ec72b9"
   },
   "outputs": [
    {
     "name": "stdout",
     "output_type": "stream",
     "text": [
      "Drive already mounted at /content/drive; to attempt to forcibly remount, call drive.mount(\"/content/drive\", force_remount=True).\n"
     ]
    }
   ],
   "source": [
    "from google.colab import drive\n",
    "drive.mount('/content/drive')"
   ]
  },
  {
   "cell_type": "code",
   "execution_count": null,
   "metadata": {
    "colab": {
     "base_uri": "https://localhost:8080/"
    },
    "executionInfo": {
     "elapsed": 9093,
     "status": "ok",
     "timestamp": 1755088664808,
     "user": {
      "displayName": "大森裕太朗",
      "userId": "01392563301008828223"
     },
     "user_tz": -420
    },
    "id": "racgM-hROHGG",
    "outputId": "9d794568-0ca6-4a29-bee1-11e162003901"
   },
   "outputs": [
    {
     "name": "stdout",
     "output_type": "stream",
     "text": [
      "/root\n",
      "/content/drive/MyDrive/LectureAI/shiftmaker\n",
      "Requirement already satisfied: python-telegram-bot in /usr/local/lib/python3.11/dist-packages (22.3)\n",
      "Requirement already satisfied: numpy==1.26.4 in /usr/local/lib/python3.11/dist-packages (1.26.4)\n",
      "Requirement already satisfied: httpx<0.29,>=0.27 in /usr/local/lib/python3.11/dist-packages (from python-telegram-bot) (0.28.1)\n",
      "Requirement already satisfied: anyio in /usr/local/lib/python3.11/dist-packages (from httpx<0.29,>=0.27->python-telegram-bot) (4.10.0)\n",
      "Requirement already satisfied: certifi in /usr/local/lib/python3.11/dist-packages (from httpx<0.29,>=0.27->python-telegram-bot) (2025.8.3)\n",
      "Requirement already satisfied: httpcore==1.* in /usr/local/lib/python3.11/dist-packages (from httpx<0.29,>=0.27->python-telegram-bot) (1.0.9)\n",
      "Requirement already satisfied: idna in /usr/local/lib/python3.11/dist-packages (from httpx<0.29,>=0.27->python-telegram-bot) (3.10)\n",
      "Requirement already satisfied: h11>=0.16 in /usr/local/lib/python3.11/dist-packages (from httpcore==1.*->httpx<0.29,>=0.27->python-telegram-bot) (0.16.0)\n",
      "Requirement already satisfied: sniffio>=1.1 in /usr/local/lib/python3.11/dist-packages (from anyio->httpx<0.29,>=0.27->python-telegram-bot) (1.3.1)\n",
      "Requirement already satisfied: typing_extensions>=4.5 in /usr/local/lib/python3.11/dist-packages (from anyio->httpx<0.29,>=0.27->python-telegram-bot) (4.14.1)\n"
     ]
    }
   ],
   "source": [
    "%cd\n",
    "%ls\n",
    "%cd /content/drive/MyDrive/LectureAI/shiftmaker/\n",
    "!pip install python-telegram-bot numpy==1.26.4"
   ]
  },
  {
   "cell_type": "code",
   "execution_count": null,
   "metadata": {
    "colab": {
     "base_uri": "https://localhost:8080/"
    },
    "executionInfo": {
     "elapsed": 20412,
     "status": "ok",
     "timestamp": 1755088685221,
     "user": {
      "displayName": "大森裕太朗",
      "userId": "01392563301008828223"
     },
     "user_tz": -420
    },
    "id": "EtRYnCN7OSrO",
    "outputId": "c9daac96-5569-4e45-8749-9b574bb3b412"
   },
   "outputs": [
    {
     "name": "stdout",
     "output_type": "stream",
     "text": [
      "\u001b[1;31mE: \u001b[0mdpkg was interrupted, you must manually run 'dpkg --configure -a' to correct the problem. \u001b[0m\n",
      "Collecting mecab-python3\n",
      "  Downloading mecab_python3-1.0.10-cp311-cp311-manylinux_2_17_x86_64.manylinux2014_x86_64.whl.metadata (6.2 kB)\n",
      "Collecting ipadic\n",
      "  Downloading ipadic-1.0.0.tar.gz (13.4 MB)\n",
      "\u001b[2K     \u001b[90m━━━━━━━━━━━━━━━━━━━━━━━━━━━━━━━━━━━━━━━━\u001b[0m \u001b[32m13.4/13.4 MB\u001b[0m \u001b[31m49.3 MB/s\u001b[0m eta \u001b[36m0:00:00\u001b[0m\n",
      "\u001b[?25h  Preparing metadata (setup.py) ... \u001b[?25l\u001b[?25hdone\n",
      "Requirement already satisfied: dill in /usr/local/lib/python3.11/dist-packages (0.3.8)\n",
      "Downloading mecab_python3-1.0.10-cp311-cp311-manylinux_2_17_x86_64.manylinux2014_x86_64.whl (588 kB)\n",
      "\u001b[2K   \u001b[90m━━━━━━━━━━━━━━━━━━━━━━━━━━━━━━━━━━━━━━━━\u001b[0m \u001b[32m588.8/588.8 kB\u001b[0m \u001b[31m18.7 MB/s\u001b[0m eta \u001b[36m0:00:00\u001b[0m\n",
      "\u001b[?25hBuilding wheels for collected packages: ipadic\n",
      "  Building wheel for ipadic (setup.py) ... \u001b[?25l\u001b[?25hdone\n",
      "  Created wheel for ipadic: filename=ipadic-1.0.0-py3-none-any.whl size=13556704 sha256=24259d9f743b23fb95aa13617e92465b5b99b571943468b3c5ecf6911d7b7a33\n",
      "  Stored in directory: /root/.cache/pip/wheels/44/56/37/f543963822b85260c9f948df8fac8c20169c80dc71b24dc407\n",
      "Successfully built ipadic\n",
      "Installing collected packages: mecab-python3, ipadic\n",
      "Successfully installed ipadic-1.0.0 mecab-python3-1.0.10\n",
      "Collecting pulp\n",
      "  Using cached pulp-3.2.2-py3-none-any.whl.metadata (6.9 kB)\n",
      "Using cached pulp-3.2.2-py3-none-any.whl (16.4 MB)\n",
      "Installing collected packages: pulp\n",
      "Successfully installed pulp-3.2.2\n"
     ]
    }
   ],
   "source": [
    "!apt install mecab libmecab-dev mecab-ipadic-utf8 swig\n",
    "!pip install mecab-python3 ipadic dill\n",
    "!pip install pulp"
   ]
  },
  {
   "cell_type": "code",
   "execution_count": null,
   "metadata": {
    "colab": {
     "base_uri": "https://localhost:8080/"
    },
    "id": "-NO1h4YvOfdy",
    "outputId": "5ec47c7e-2a09-4f1d-a5a8-0dbbcfca7c33"
   },
   "outputs": [
    {
     "name": "stdout",
     "output_type": "stream",
     "text": [
      "2025-08-13 12:38:14,021 - INFO - NumExpr defaulting to 2 threads.\n",
      "2025-08-13 12:38:14,631 - INFO - Bot is starting...\n",
      "2025-08-13 12:38:15,584 - INFO - HTTP Request: POST https://api.telegram.org/bot7998030546:AAEI8FYuLMk61q3E2qG3Ck8lOFizQqlzO2Y/getMe \"HTTP/1.1 200 OK\"\n",
      "2025-08-13 12:38:15,693 - INFO - HTTP Request: POST https://api.telegram.org/bot7998030546:AAEI8FYuLMk61q3E2qG3Ck8lOFizQqlzO2Y/deleteWebhook \"HTTP/1.1 200 OK\"\n",
      "2025-08-13 12:38:15,695 - INFO - Application started\n",
      "2025-08-13 12:38:26,016 - INFO - HTTP Request: POST https://api.telegram.org/bot7998030546:AAEI8FYuLMk61q3E2qG3Ck8lOFizQqlzO2Y/getUpdates \"HTTP/1.1 200 OK\"\n",
      "2025-08-13 12:38:36,126 - INFO - HTTP Request: POST https://api.telegram.org/bot7998030546:AAEI8FYuLMk61q3E2qG3Ck8lOFizQqlzO2Y/getUpdates \"HTTP/1.1 200 OK\"\n",
      "2025-08-13 12:38:46,237 - INFO - HTTP Request: POST https://api.telegram.org/bot7998030546:AAEI8FYuLMk61q3E2qG3Ck8lOFizQqlzO2Y/getUpdates \"HTTP/1.1 200 OK\"\n",
      "2025-08-13 12:38:56,345 - INFO - HTTP Request: POST https://api.telegram.org/bot7998030546:AAEI8FYuLMk61q3E2qG3Ck8lOFizQqlzO2Y/getUpdates \"HTTP/1.1 200 OK\"\n",
      "2025-08-13 12:39:06,452 - INFO - HTTP Request: POST https://api.telegram.org/bot7998030546:AAEI8FYuLMk61q3E2qG3Ck8lOFizQqlzO2Y/getUpdates \"HTTP/1.1 200 OK\"\n",
      "2025-08-13 12:39:08,259 - INFO - HTTP Request: POST https://api.telegram.org/bot7998030546:AAEI8FYuLMk61q3E2qG3Ck8lOFizQqlzO2Y/getUpdates \"HTTP/1.1 200 OK\"\n",
      "sessionId is8145325115\n",
      "2025-08-13 12:39:08,261 - ERROR - No error handlers are registered, logging exception.\n",
      "Traceback (most recent call last):\n",
      "  File \"/usr/local/lib/python3.11/dist-packages/telegram/ext/_application.py\", line 1311, in process_update\n",
      "    await coroutine\n",
      "  File \"/usr/local/lib/python3.11/dist-packages/telegram/ext/_handlers/basehandler.py\", line 158, in handle_update\n",
      "    return await self.callback(update, context)\n",
      "           ^^^^^^^^^^^^^^^^^^^^^^^^^^^^^^^^^^^^\n",
      "  File \"/content/drive/MyDrive/LectureAI/shiftmaker/telegram_bot.py\", line 50, in message\n",
      "    system_output = self.system.reply(input_dict)\n",
      "                    ^^^^^^^^^^^^^^^^^^^^^^^^^^^^^\n",
      "  File \"/content/drive/MyDrive/LectureAI/shiftmaker/frame_shift_system.py\", line 157, in reply\n",
      "    frame = self.sessiondic[sessionId][\"frame\"]\n",
      "            ~~~~~~~~~~~~~~~^^^^^^^^^^^\n",
      "KeyError: '8145325115'\n",
      "2025-08-13 12:39:18,733 - INFO - HTTP Request: POST https://api.telegram.org/bot7998030546:AAEI8FYuLMk61q3E2qG3Ck8lOFizQqlzO2Y/getUpdates \"HTTP/1.1 200 OK\"\n",
      "2025-08-13 12:39:28,843 - INFO - HTTP Request: POST https://api.telegram.org/bot7998030546:AAEI8FYuLMk61q3E2qG3Ck8lOFizQqlzO2Y/getUpdates \"HTTP/1.1 200 OK\"\n",
      "2025-08-13 12:39:38,951 - INFO - HTTP Request: POST https://api.telegram.org/bot7998030546:AAEI8FYuLMk61q3E2qG3Ck8lOFizQqlzO2Y/getUpdates \"HTTP/1.1 200 OK\"\n",
      "2025-08-13 12:39:49,062 - INFO - HTTP Request: POST https://api.telegram.org/bot7998030546:AAEI8FYuLMk61q3E2qG3Ck8lOFizQqlzO2Y/getUpdates \"HTTP/1.1 200 OK\"\n"
     ]
    }
   ],
   "source": [
    "!python /content/drive/MyDrive/LectureAI/shiftmaker/frame_shift_system.py"
   ]
  }
 ],
 "metadata": {
  "colab": {
   "authorship_tag": "ABX9TyNun9xjJLjPZSW0z/ihh2N6",
   "mount_file_id": "1mXhsyFEQbZEvnxbVKfgHWuq6SYVMrsmI",
   "provenance": []
  },
  "kernelspec": {
   "display_name": "Python 3",
   "name": "python3"
  },
  "language_info": {
   "name": "python"
  }
 },
 "nbformat": 4,
 "nbformat_minor": 0
}
